{
 "cells": [
  {
   "cell_type": "code",
   "execution_count": 74,
   "metadata": {},
   "outputs": [],
   "source": [
    "import pandas as pd\n",
    "import numpy as np\n",
    "import seaborn as sns\n",
    "import matplotlib.pyplot as plt\n",
    "pd.set_option('display.max_rows',2000)"
   ]
  },
  {
   "cell_type": "code",
   "execution_count": 77,
   "metadata": {},
   "outputs": [],
   "source": [
    "df=pd.DataFrame([])\n",
    "\n",
    "nome_meses=['jan','fev','mar','abr','mai','jun','jul','ago','set','out','nov','dez']\n",
    "\n",
    "for y in range (4,10):  # 4 de 201'4' e 10 significa que vai até o 9 de 201'9'\n",
    "    for m in nome_meses:\n",
    "        c=pd.read_excel(r'C:\\Users\\Katia Suely\\Desktop\\Planilhas do programa\\201{}\\201{}{}.xlsx'.format(y,y,m))\n",
    "        df=df.append(c)\n",
    "df.set_index('Unnamed: 0',inplace=True)\n",
    "A=df.index ## Para utilizar o index em outro conjunto de dados que criarmos"
   ]
  },
  {
   "cell_type": "code",
   "execution_count": 103,
   "metadata": {},
   "outputs": [],
   "source": [
    "T = np.pi/180                         #Transformação para radianos\n",
    " \n",
    "sind=lambda a:np.sin(T*a)           \n",
    "cosd=lambda a:np.cos(T*a)           \n",
    "tand=lambda a:np.tan(T*a)           \n",
    "acosd=lambda a:(1/T)*np.arccos(a)   \n",
    "asind=lambda a:(1/T)*np.arcsin(a)   \n",
    "atand=lambda a:(1/T)*np.arctan(a)"
   ]
  },
  {
   "cell_type": "code",
   "execution_count": 104,
   "metadata": {},
   "outputs": [
    {
     "data": {
      "text/plain": [
       "(365,)"
      ]
     },
     "execution_count": 104,
     "metadata": {},
     "output_type": "execute_result"
    }
   ],
   "source": [
    "N=np.arange(1,366)\n",
    "np.shape(N)"
   ]
  },
  {
   "cell_type": "code",
   "execution_count": 105,
   "metadata": {},
   "outputs": [
    {
     "data": {
      "text/plain": [
       "(365,)"
      ]
     },
     "execution_count": 105,
     "metadata": {},
     "output_type": "execute_result"
    }
   ],
   "source": [
    "B = (N - 81)*360/364\n",
    "np.shape(B)"
   ]
  },
  {
   "cell_type": "code",
   "execution_count": 106,
   "metadata": {},
   "outputs": [
    {
     "data": {
      "text/plain": [
       "(365,)"
      ]
     },
     "execution_count": 106,
     "metadata": {},
     "output_type": "execute_result"
    }
   ],
   "source": [
    "ET =9.87*sind(2*B)-7.53*cosd(B)-1.5*sind(B)\n",
    "np.shape(ET)"
   ]
  },
  {
   "cell_type": "code",
   "execution_count": 107,
   "metadata": {},
   "outputs": [
    {
     "data": {
      "text/plain": [
       "[<matplotlib.lines.Line2D at 0x19e9af23190>]"
      ]
     },
     "execution_count": 107,
     "metadata": {},
     "output_type": "execute_result"
    },
    {
     "data": {
      "image/png": "[encoded data removed]",
      "text/plain": [
       "<Figure size 432x288 with 1 Axes>"
      ]
     },
     "metadata": {
      "needs_background": "light"
     },
     "output_type": "display_data"
    }
   ],
   "source": [
    "plt.plot(ET)"
   ]
  },
  {
   "cell_type": "code",
   "execution_count": 108,
   "metadata": {},
   "outputs": [
    {
     "data": {
      "image/png": "[encoded data removed]",
      "text/plain": [
       "<Figure size 432x288 with 1 Axes>"
      ]
     },
     "metadata": {
      "needs_background": "light"
     },
     "output_type": "display_data"
    }
   ],
   "source": [
    "#Declinação Solar\n",
    "deltagraus =23.45*sind((360/365*(284 + N)))\n",
    "deltarad=deltagraus*(np.pi/180)\n",
    "plt.plot(deltarad)\n",
    "plt.show()"
   ]
  },
  {
   "cell_type": "code",
   "execution_count": 119,
   "metadata": {},
   "outputs": [
    {
     "data": {
      "text/plain": [
       "array([   0,   60,  120,  180,  240,  300,  360,  420,  480,  540,  600,\n",
       "        660,  720,  780,  840,  900,  960, 1020, 1080, 1140, 1200, 1260,\n",
       "       1320, 1380])"
      ]
     },
     "execution_count": 119,
     "metadata": {},
     "output_type": "execute_result"
    }
   ],
   "source": [
    "HPL =np.arange(0,24*60,60)\n",
    "HPL"
   ]
  },
  {
   "cell_type": "code",
   "execution_count": 120,
   "metadata": {},
   "outputs": [],
   "source": [
    "HV = 0                                             # Horário de Verão (0 ou 60 minutos)\n",
    "SL = 45                                            # Longitude Padrão Local\n",
    "Long = 35.20298                                    # Longitude do Local (Natal-RN)\n",
    "D = 1                                              # 0 para local a leste e 1 a oeste de Greenwich\n",
    "TSA=[]\n",
    "\n",
    "if D==0:\n",
    "    for i in range(365):\n",
    "        for j in range(24):\n",
    "            TSA[i+j] = HPL[j] + ET[i] - 4*(SL - Long) - HV             \n",
    "else:\n",
    "    for i in range(365):\n",
    "        for j in range(24): \n",
    "            TSA.append(HPL[j] + ET[i] + 4*(SL - Long) - HV)"
   ]
  },
  {
   "cell_type": "code",
   "execution_count": 137,
   "metadata": {},
   "outputs": [
    {
     "data": {
      "text/plain": [
       "[<matplotlib.lines.Line2D at 0x19e9d0fa5e0>]"
      ]
     },
     "execution_count": 137,
     "metadata": {},
     "output_type": "execute_result"
    },
    {
     "data": {
      "image/png": "[encoded data removed]",
      "text/plain": [
       "<Figure size 432x288 with 1 Axes>"
      ]
     },
     "metadata": {
      "needs_background": "light"
     },
     "output_type": "display_data"
    }
   ],
   "source": [
    "TSA=np.array(TSA)/60\n",
    "plt.plot(TSA[0:48])"
   ]
  },
  {
   "cell_type": "code",
   "execution_count": 122,
   "metadata": {},
   "outputs": [
    {
     "data": {
      "text/plain": [
       "array([-3.14159265, -2.87979327, -2.61799388, -2.35619449, -2.0943951 ,\n",
       "       -1.83259571, -1.57079633, -1.30899694, -1.04719755, -0.78539816,\n",
       "       -0.52359878, -0.26179939,  0.        ,  0.26179939,  0.52359878,\n",
       "        0.78539816,  1.04719755,  1.30899694,  1.57079633,  1.83259571,\n",
       "        2.0943951 ,  2.35619449,  2.61799388,  2.87979327])"
      ]
     },
     "execution_count": 122,
     "metadata": {},
     "output_type": "execute_result"
    }
   ],
   "source": [
    "hhora = (HPL/60 - 12)*15\n",
    "hhorarad = hhora*np.pi/180\n",
    "hhorarad"
   ]
  },
  {
   "cell_type": "code",
   "execution_count": 129,
   "metadata": {},
   "outputs": [],
   "source": [
    "#Calculo do zenite\n",
    "\n",
    "L = -5.8487   #Latitude Local\n",
    "alfa=[]\n",
    "zenite=[]\n",
    "for i in range(0,365):\n",
    "    for j in range(24):\n",
    "          alfa.append(asind(sind(L)*sind(deltagraus[i])+cosd(L)*cosd(hhora[j])*cosd(deltagraus[i]))) \n"
   ]
  },
  {
   "cell_type": "code",
   "execution_count": 130,
   "metadata": {},
   "outputs": [
    {
     "data": {
      "text/plain": [
       "array([151.13966327, 147.62903966, 138.86199268, ..., 127.38279558,\n",
       "       138.81334909, 147.56390016])"
      ]
     },
     "execution_count": 130,
     "metadata": {},
     "output_type": "execute_result"
    }
   ],
   "source": [
    "zenite=90-np.array(alfa)\n",
    "zenite"
   ]
  },
  {
   "cell_type": "code",
   "execution_count": 51,
   "metadata": {},
   "outputs": [],
   "source": [
    "#Fotoperíodo=0.1333*acosd(-tand(L)*tand(delta))\n",
    "#foto=pd.DataFrame(Fotoperíodo)"
   ]
  },
  {
   "cell_type": "code",
   "execution_count": 141,
   "metadata": {},
   "outputs": [
    {
     "data": {
      "text/plain": [
       "array([92.49347897, 92.48367042, 92.47305335, 92.46163402, 92.44941914,\n",
       "       92.43641583, 92.42263161, 92.40807441, 92.39275252, 92.37667459,\n",
       "       92.35984963, 92.34228697, 92.32399626, 92.30498744, 92.28527074,\n",
       "       92.26485664, 92.24375588, 92.22197943, 92.19953845, 92.17644431,\n",
       "       92.15270857, 92.12834294, 92.10335926, 92.07776952, 92.05158581,\n",
       "       92.02482031, 91.99748531, 91.96959313, 91.94115615, 91.9121868 ,\n",
       "       91.88269752, 91.85270076, 91.82220898, 91.7912346 , 91.75979004,\n",
       "       91.72788766, 91.69553979, 91.66275868, 91.62955653, 91.59594546,\n",
       "       91.5619375 , 91.5275446 , 91.4927786 , 91.45765125, 91.42217416,\n",
       "       91.38635887, 91.35021676, 91.31375911, 91.27699707, 91.23994166,\n",
       "       91.20260377, 91.16499416, 91.12712344, 91.08900212, 91.05064056,\n",
       "       91.01204897, 90.97323745, 90.93421597, 90.89499436, 90.85558232,\n",
       "       90.81598946, 90.77622523, 90.73629897, 90.69621994, 90.65599724,\n",
       "       90.61563992, 90.57515688, 90.53455696, 90.49384889, 90.45304133,\n",
       "       90.41214285, 90.37116195, 90.33010707, 90.28898659, 90.24780882,\n",
       "       90.20658204, 90.16531447, 90.12401433, 90.08268977, 90.04134895,\n",
       "       90.        , 89.95865105, 89.91731023, 89.87598567, 89.83468553,\n",
       "       89.79341796, 89.75219118, 89.71101341, 89.66989293, 89.62883805,\n",
       "       89.58785715, 89.54695867, 89.50615111, 89.46544304, 89.42484312,\n",
       "       89.38436008, 89.34400276, 89.30378006, 89.26370103, 89.22377477,\n",
       "       89.18401054, 89.14441768, 89.10500564, 89.06578403, 89.02676255,\n",
       "       88.98795103, 88.94935944, 88.91099788, 88.87287656, 88.83500584,\n",
       "       88.79739623, 88.76005834, 88.72300293, 88.68624089, 88.64978324,\n",
       "       88.61364113, 88.57782584, 88.54234875, 88.5072214 , 88.4724554 ,\n",
       "       88.4380625 , 88.40405454, 88.37044347, 88.33724132, 88.30446021,\n",
       "       88.27211234, 88.24020996, 88.2087654 , 88.17779102, 88.14729924,\n",
       "       88.11730248, 88.0878132 , 88.05884385, 88.03040687, 88.00251469,\n",
       "       87.97517969, 87.94841419, 87.92223048, 87.89664074, 87.87165706,\n",
       "       87.84729143, 87.82355569, 87.80046155, 87.77802057, 87.75624412,\n",
       "       87.73514336, 87.71472926, 87.69501256, 87.67600374, 87.65771303,\n",
       "       87.64015037, 87.62332541, 87.60724748, 87.59192559, 87.57736839,\n",
       "       87.56358417, 87.55058086, 87.53836598, 87.52694665, 87.51632958,\n",
       "       87.50652103, 87.49752684, 87.48935237, 87.48200252, 87.47548174,\n",
       "       87.46979396, 87.46494264, 87.46093073, 87.45776068, 87.45543443,\n",
       "       87.45395341, 87.45331853, 87.45353016, 87.4545882 , 87.45649198,\n",
       "       87.45924034, 87.46283159, 87.46726354, 87.47253349, 87.47863824,\n",
       "       87.48557408, 87.49333682, 87.5019218 , 87.51132387, 87.52153743,\n",
       "       87.53255644, 87.54437441, 87.55698442, 87.57037915, 87.58455088,\n",
       "       87.59949148, 87.6151925 , 87.63164509, 87.64884009, 87.66676799,\n",
       "       87.68541902, 87.70478307, 87.7248498 , 87.74560858, 87.76704858,\n",
       "       87.78915871, 87.8119277 , 87.83534409, 87.85939625, 87.88407239,\n",
       "       87.90936061, 87.93524885, 87.96172498, 87.98877677, 88.01639191,\n",
       "       88.04455804, 88.07326276, 88.10249363, 88.1322382 , 88.16248403,\n",
       "       88.19321866, 88.22442968, 88.25610469, 88.28823135, 88.32079738,\n",
       "       88.35379052, 88.38719864, 88.42100966, 88.45521157, 88.4897925 ,\n",
       "       88.52474063, 88.5600443 , 88.59569192, 88.63167204, 88.66797332,\n",
       "       88.70458455, 88.74149465, 88.77869265, 88.81616774, 88.85390922,\n",
       "       88.89190654, 88.93014927, 88.96862712, 89.00732993, 89.04624766,\n",
       "       89.08537043, 89.12468846, 89.1641921 , 89.20387182, 89.24371823,\n",
       "       89.28372202, 89.32387402, 89.36416515, 89.40458644, 89.44512902,\n",
       "       89.4857841 , 89.52654299, 89.56739708, 89.60833783, 89.64935677,\n",
       "       89.69044549, 89.73159565, 89.77279896, 89.81404716, 89.85533204,\n",
       "       89.89664541, 89.93797911, 89.97932502, 90.02067498, 90.06202089,\n",
       "       90.10335459, 90.14466796, 90.18595284, 90.22720104, 90.26840435,\n",
       "       90.30955451, 90.35064323, 90.39166217, 90.43260292, 90.47345701,\n",
       "       90.5142159 , 90.55487098, 90.59541356, 90.63583485, 90.67612598,\n",
       "       90.71627798, 90.75628177, 90.79612818, 90.8358079 , 90.87531154,\n",
       "       90.91462957, 90.95375234, 90.99267007, 91.03137288, 91.06985073,\n",
       "       91.10809346, 91.14609078, 91.18383226, 91.22130735, 91.25850535,\n",
       "       91.29541545, 91.33202668, 91.36832796, 91.40430808, 91.4399557 ,\n",
       "       91.47525937, 91.5102075 , 91.54478843, 91.57899034, 91.61280136,\n",
       "       91.64620948, 91.67920262, 91.71176865, 91.74389531, 91.77557032,\n",
       "       91.80678134, 91.83751597, 91.8677618 , 91.89750637, 91.92673724,\n",
       "       91.95544196, 91.98360809, 92.01122323, 92.03827502, 92.06475115,\n",
       "       92.09063939, 92.11592761, 92.14060375, 92.16465591, 92.1880723 ,\n",
       "       92.21084129, 92.23295142, 92.25439142, 92.2751502 , 92.29521693,\n",
       "       92.31458098, 92.33323201, 92.35115991, 92.36835491, 92.3848075 ,\n",
       "       92.40050852, 92.41544912, 92.42962085, 92.44301558, 92.45562559,\n",
       "       92.46744356, 92.47846257, 92.48867613, 92.4980782 , 92.50666318,\n",
       "       92.51442592, 92.52136176, 92.52746651, 92.53273646, 92.53716841,\n",
       "       92.54075966, 92.54350802, 92.5454118 , 92.54646984, 92.54668147,\n",
       "       92.54604659, 92.54456557, 92.54223932, 92.53906927, 92.53505736,\n",
       "       92.53020604, 92.52451826, 92.51799748, 92.51064763, 92.50247316])"
      ]
     },
     "execution_count": 141,
     "metadata": {},
     "output_type": "execute_result"
    }
   ],
   "source": [
    "Hss=acosd(-tand(L)*tand(deltagraus))\n",
    "Hss"
   ]
  },
  {
   "cell_type": "code",
   "execution_count": 136,
   "metadata": {},
   "outputs": [],
   "source": [
    "#Radiação extraterrestre \n",
    "I_et=[]\n",
    "Io=1367\n",
    "for i in range(365*24):\n",
    "    I_et.append(Io*(1+0.033*np.cos(np.deg2rad(360*i)/(365))*np.cos(np.deg2rad(zenite[i]))))    \n",
    "    if I_et[i]<0:\n",
    "        I_et.append(0)\n"
   ]
  },
  {
   "cell_type": "code",
   "execution_count": 146,
   "metadata": {},
   "outputs": [
    {
     "data": {
      "text/plain": [
       "array([38022979.63748465, 38035434.5902806 , 38048533.15806918,\n",
       "       38062250.52008779, 38076560.11609571, 38091433.6801628 ,\n",
       "       38106841.27685977, 38122751.33982007, 38139130.71264067,\n",
       "       38155944.69208618, 38173157.07355792, 38190730.198787  ,\n",
       "       38208625.00570667, 38226801.08045735, 38245216.71147353,\n",
       "       38263828.94559934, 38282593.64617627, 38301465.55304315,\n",
       "       38320398.34438539, 38339344.70036723, 38358256.36847755,\n",
       "       38377084.23051623, 38395778.37114517, 38414288.14792451,\n",
       "       38432562.26275155, 38450548.83461645, 38468195.47358588,\n",
       "       38485449.35592262, 38502257.30024578, 38518565.84463387,\n",
       "       38534321.32456972, 38549469.95162349, 38563957.89276771,\n",
       "       38577731.35021532, 38590736.64166965, 38602920.28087305,\n",
       "       38614229.0583386 , 38624610.12214773, 38634011.05869478,\n",
       "       38642379.97325817, 38649665.57027637, 38655817.23320618,\n",
       "       38660785.1038397 , 38664520.16095603, 38666974.2981834 ,\n",
       "       38668100.40094732, 38667852.42238065, 38666185.45807203,\n",
       "       38663055.8195297 , 38658421.10623901, 38652240.27619313,\n",
       "       38644473.71477836, 38635083.30189679, 38624032.477212  ,\n",
       "       38611286.30340553, 38596811.52733466, 38580576.63898531,\n",
       "       38562551.92811711, 38542709.53850131, 38521023.51965598,\n",
       "       38497469.87598751, 38472026.61325111, 38444673.78224863,\n",
       "       38415393.51968572, 38384170.08611652, 38350989.90090875,\n",
       "       38315841.57416761, 38278715.93556289, 38239606.06000897,\n",
       "       38198507.29015409, 38155417.2556406 , 38110335.88910455,\n",
       "       38063265.4388896 , 38014210.47845549, 37963177.91246925,\n",
       "       37910176.97957233, 37855219.2518248 , 37798318.63083271,\n",
       "       37739491.34057235, 37678755.91693132, 37616133.19399211,\n",
       "       37551646.28709093, 37485320.57269029, 37417183.66510997,\n",
       "       37347265.39016703, 37275597.75578131, 37202214.91960819,\n",
       "       37127153.15376634, 37050450.80673283, 36972148.26248343,\n",
       "       36892287.89696031, 36810914.03195431, 36728072.88649277,\n",
       "       36643812.52582823, 36558182.80812681, 36471235.32895875,\n",
       "       36383023.36369646, 36293601.80792849, 36203027.11600005,\n",
       "       36111357.23779346, 36018651.55386315, 35924970.80904184,\n",
       "       35830377.04463577, 35734933.52932746, 35638704.68890571,\n",
       "       35541756.03494198, 35444154.09253339, 35345966.32723112,\n",
       "       35247261.07127357, 35148107.44924144, 35048575.3032521 ,\n",
       "       34948735.11780807, 34848657.94441321, 34748415.32606833,\n",
       "       34648079.22175536, 34547721.93101721, 34447416.01873747,\n",
       "       34347234.24022134, 34247249.46667635, 34147534.61118762,\n",
       "       34048162.55528009, 33949206.07615529, 33850737.77468777,\n",
       "       33752830.00426175, 33655554.80052523, 33558983.81213441,\n",
       "       33463188.23255773, 33368238.73300423, 33274205.39653764,\n",
       "       33181157.65343251, 33089164.21782564, 32998293.02571115,\n",
       "       32908611.17432388, 32820184.86295184, 32733079.33521418,\n",
       "       32647358.82283748, 32563086.49095948, 32480324.38498515,\n",
       "       32399133.37901702, 32319573.12587773, 32241702.00873964,\n",
       "       32165577.09437292, 32091254.0880208 , 32018787.28990719,\n",
       "       31948229.55337961, 31879632.24468746, 31813045.20439336,\n",
       "       31748516.7104129 , 31686093.44267625, 31625820.44940284,\n",
       "       31567741.11497904, 31511897.12942682, 31458328.4594503 ,\n",
       "       31407073.32104571, 31358168.15365957, 31311647.59587875,\n",
       "       31267544.46263576, 31225889.72391196, 31186712.4849213 ,\n",
       "       31150039.96775671, 31115897.49448181, 31084308.47165041,\n",
       "       31055294.37623688, 31028874.74296045, 31005067.15298825,\n",
       "       30983887.22400084, 30965348.60160685, 30949462.9520926 ,\n",
       "       30936239.95649467, 30925687.30598411, 30917810.69855208,\n",
       "       30912613.83698826, 30910098.42814457, 30910264.1834778 ,\n",
       "       30913108.8208667 , 30918628.06769974, 30926815.66523198,\n",
       "       30937663.37420998, 30951160.9817658 , 30967296.30958193,\n",
       "       30986055.22333072, 31007421.64339267, 31031377.55685946,\n",
       "       31057903.03082861, 31086976.22699743, 31118573.4175654 ,\n",
       "       31152669.00245405, 31189235.5278552 , 31228243.70611798,\n",
       "       31269662.43698622, 31313458.83019766, 31359598.22945692,\n",
       "       31408044.23779402, 31458758.74431999, 31511701.95239124,\n",
       "       31566832.40919334, 31624107.03675472, 31683481.16439972,\n",
       "       31744908.56264953, 31808341.47857846, 31873730.67263171,\n",
       "       31941025.45690912, 32010173.73491792, 32081122.04279568,\n",
       "       32153815.59200254, 32228198.31347971, 32304212.90326898,\n",
       "       32381800.86958534, 32460902.5813325 , 32541457.31804796,\n",
       "       32623403.32126166, 32706677.84724921, 32791217.22115745,\n",
       "       32876956.89247687, 32963831.49183224, 33051774.8890592 ,\n",
       "       33140720.25253101, 33230600.10969648, 33321346.40878593,\n",
       "       33412890.58163881, 33505163.60760279, 33598096.07845036,\n",
       "       33691618.26425539, 33785660.18016835, 33880151.65402541,\n",
       "       33975022.3947228 , 34070202.06128433, 34165620.33254679,\n",
       "       34261206.97738402, 34356891.92538782, 34452605.33791998,\n",
       "       34548277.67944743, 34643839.78906903, 34739222.95214001,\n",
       "       34834358.97189779, 34929180.24098992, 35023619.81280337,\n",
       "       35117611.47249188, 35211089.80759694, 35303990.27815566,\n",
       "       35396249.2861884 , 35487804.24445733, 35578593.64438674,\n",
       "       35668557.12303496, 35757635.52900842, 35845770.98720711,\n",
       "       35932906.96229244, 36018988.32076789, 36103961.39156482,\n",
       "       36187774.02502599, 36270375.6501818 , 36351717.33021513,\n",
       "       36431751.81601363, 36510433.59770969, 36587718.95411176,\n",
       "       36663565.99993335, 36737934.73072881, 36810787.06544906,\n",
       "       36882086.8865336 , 36951800.07745954, 37019894.55767205,\n",
       "       37086340.31482541, 37151109.43426826, 37214176.12571157,\n",
       "       37275516.74702264, 37335109.82509381, 37392936.07373971,\n",
       "       37448978.40858252, 37503221.95889002, 37555654.0763371 ,\n",
       "       37606264.34066718, 37655044.56223566, 37701988.7814236 ,\n",
       "       37747093.26491573, 37790356.49884281, 37831779.17879424,\n",
       "       37871364.19671311, 37909116.62469137, 37945043.69568894,\n",
       "       37979154.7812063 , 38011461.36594579, 38041977.01950262,\n",
       "       38070717.36513183, 38097700.04564296, 38122944.6864797 ,\n",
       "       38146472.85604607, 38168308.02334655, 38188475.51301158,\n",
       "       38207002.45778459, 38223917.74855113, 38239251.98199465,\n",
       "       38253037.40596732, 38265307.8626679 , 38276098.72972221,\n",
       "       38285446.85926483, 38293390.51512324, 38299969.30820886,\n",
       "       38305224.13022117, 38309197.08577377, 38311931.42305262,\n",
       "       38313471.46311872, 38313862.52796832, 38313150.86746552,\n",
       "       38311383.58526203, 38308608.56382062, 38304874.38865758,\n",
       "       38300230.27192113, 38294725.97542159, 38288411.73322907,\n",
       "       38281338.1739536 , 38273556.24282239, 38265117.12366707,\n",
       "       38256072.16093322, 38246472.78182287, 38236370.41867878,\n",
       "       38225816.43171831, 38214862.03222192, 38203558.20627997,\n",
       "       38191955.63919912, 38180104.6406673 , 38168055.07077375,\n",
       "       38155856.26697854, 38143556.97212292, 38131205.26356954,\n",
       "       38118848.48355877, 38106533.17086452, 38094304.99383046,\n",
       "       38082208.68486419, 38070287.97646453, 38058585.53885406,\n",
       "       38047142.91928615, 38036000.48309273, 38025197.35653657,\n",
       "       38014771.37152848, 38004759.01226752, 37995195.36385908,\n",
       "       37986114.06296328, 37977547.25052336, 37969525.52662052,\n",
       "       37962077.90750032, 37955231.78481133, 37949012.88709612,\n",
       "       37943445.24357065, 37938551.15022662, 37934351.13828843,\n",
       "       37930863.94505459, 37928106.48715033, 37926093.83621697,\n",
       "       37924839.19706032, 37924353.88827907, 37924647.32539152,\n",
       "       37925727.00647701, 37927598.50034649, 37930265.43725438,\n",
       "       37933729.50216198, 37937990.4305606 , 37943046.00686064,\n",
       "       37948892.06535071, 37955522.49372894, 37962929.23920653,\n",
       "       37971102.31718153, 37980029.82247885, 37989697.94315016,\n",
       "       38000090.97682553, 38011191.349606  ])"
      ]
     },
     "execution_count": 146,
     "metadata": {},
     "output_type": "execute_result"
    }
   ],
   "source": [
    "#Integração de I_et horizontal\n",
    "HoJ=(24*3600*Io/np.pi)*(1+0.033*cosd(360*N/365))*(cosd(L)*cosd(deltagraus)*sind(Hss)+(np.pi*Hss/180)*sind(L)*sind(deltagraus))\n",
    "HoJ"
   ]
  },
  {
   "cell_type": "code",
   "execution_count": 147,
   "metadata": {},
   "outputs": [
    {
     "data": {
      "text/plain": [
       "array([10561.93878819, 10565.3984973 , 10569.03698835, 10572.84736669,\n",
       "       10576.82225447, 10580.95380005, 10585.23368802, 10589.65314995,\n",
       "       10594.20297573, 10598.87352558, 10603.65474265, 10608.53616633,\n",
       "       10613.50694603, 10618.55585568, 10623.67130874, 10628.84137378,\n",
       "       10634.0537906 , 10639.29598696, 10644.55509566, 10649.81797232,\n",
       "       10655.07121347, 10660.30117514, 10665.49399198, 10670.63559665,\n",
       "       10675.71173965, 10680.70800962, 10685.60985377, 10690.40259887,\n",
       "       10695.07147229, 10699.60162351, 10703.97814571, 10708.18609767,\n",
       "       10712.21052577, 10716.03648617, 10719.64906713, 10723.03341135,\n",
       "       10726.17473843, 10729.05836726, 10731.66973853, 10733.99443702,\n",
       "       10736.01821397, 10737.72700922, 10739.10697329, 10740.14448915,\n",
       "       10740.82619394, 10741.13900026, 10741.07011733, 10740.60707169,\n",
       "       10739.73772765, 10738.45030729, 10736.73341005, 10734.57603188,\n",
       "       10731.96758386, 10728.89791034, 10725.3573065 , 10721.33653537,\n",
       "       10716.82684416, 10711.81998003, 10706.30820514, 10700.28431102,\n",
       "       10693.74163222, 10686.67405924, 10679.07605062, 10670.94264436,\n",
       "       10662.26946837, 10653.05275025, 10643.28932616, 10632.97664877,\n",
       "       10622.11279445, 10610.69646949, 10598.72701546, 10586.20441364,\n",
       "       10573.12928858, 10559.50291068, 10545.32719791, 10530.60471655,\n",
       "       10515.33868106, 10499.53295301, 10483.19203905, 10466.32108804,\n",
       "       10448.92588722, 10431.01285753, 10412.58904797, 10393.6621292 ,\n",
       "       10374.24038616, 10354.33270994, 10333.94858878, 10313.09809827,\n",
       "       10291.79189076, 10270.04118402, 10247.85774916, 10225.25389777,\n",
       "       10202.24246847, 10178.83681273, 10155.05078004, 10130.89870249,\n",
       "       10106.3953788 , 10081.55605776, 10056.39642111, 10030.93256605,\n",
       "       10005.18098718,  9979.15855807,  9952.8825124 ,  9926.37042481,\n",
       "        9899.64019136,  9872.71000971,  9845.59835904,  9818.32397979,\n",
       "        9790.90585313,  9763.36318034,  9735.71536201,  9707.98197717,\n",
       "        9680.18276234,  9652.33759057,  9624.46645049,  9596.58942528,\n",
       "        9568.72667187,  9540.89840006,  9513.12485185,  9485.42628089,\n",
       "        9457.82293202,  9430.33502115,  9402.98271519,  9375.78611229,\n",
       "        9348.76522237,  9321.93994782,  9295.3300646 ,  9268.95520361,\n",
       "        9242.83483237,  9216.98823706,  9191.43450495,  9166.19250714,\n",
       "        9141.28088176,  9116.71801749,  9092.52203756,  9068.71078412,\n",
       "        9045.30180304,  9022.31232916,  8999.75927195,  8977.65920163,\n",
       "        8956.02833576,  8934.88252621,  8914.23724667,  8894.10758053,\n",
       "        8874.50820927,  8855.4534013 ,  8836.95700122,  8819.03241956,\n",
       "        8801.69262297,  8784.95012483,  8768.81697638,  8753.30475817,\n",
       "        8738.42457207,  8724.18703362,  8710.60226491,  8697.67988774,\n",
       "        8685.4290174 ,  8673.85825664,  8662.97569026,  8652.78887993,\n",
       "        8643.30485958,  8634.53013101,  8626.47066007,  8619.13187304,\n",
       "        8612.51865361,  8606.63534   ,  8601.48572267,  8597.07304225,\n",
       "        8593.39998792,  8590.46869611,  8588.2807496 ,  8586.83717694,\n",
       "        8586.13845226,  8586.18449541,  8586.97467246,  8588.50779658,\n",
       "        8590.78212923,  8593.79538172,  8597.54471716,  8602.02675266,\n",
       "        8607.23756204,  8613.17267872,  8619.82709913,  8627.19528634,\n",
       "        8635.27117417,  8644.04817155,  8653.51916735,  8663.67653552,\n",
       "        8674.51214059,  8686.01734361,  8698.18300839,  8710.99950818,\n",
       "        8724.45673272,  8738.54409564,  8753.25054233,  8768.56455811,\n",
       "        8784.47417688,  8800.96699011,  8818.03015629,  8835.65041072,\n",
       "        8853.81407573,  8872.50707136,  8891.71492637,  8911.42278967,\n",
       "        8931.61544222,  8952.2773093 ,  8973.39247313,  8994.944686  ,\n",
       "        9016.9173837 ,  9039.29369946,  9062.05647813,  9085.1882909 ,\n",
       "        9108.67145032,  9132.48802569,  9156.61985884,  9181.04858029,\n",
       "        9205.7556257 ,  9230.72225269,  9255.929558  ,  9281.3584949 ,\n",
       "        9306.989891  ,  9332.80446624,  9358.78285118,  9384.9056056 ,\n",
       "        9411.15323723,  9437.50622076,  9463.94501702,  9490.45009237,\n",
       "        9517.00193816,  9543.58109039,  9570.16814942,  9596.74379985,\n",
       "        9623.2888303 ,  9649.78415337,  9676.21082553,  9702.55006694,\n",
       "        9728.78328133,  9754.89207569,  9780.85827989,  9806.66396615,\n",
       "        9832.29146839,  9857.72340124,  9882.942679  ,  9907.93253418,\n",
       "        9932.67653584,  9957.15860756,  9981.36304508, 10005.27453355,\n",
       "       10028.87816432, 10052.1594514 , 10075.10434727, 10097.69925839,\n",
       "       10119.93106   , 10141.78711047, 10163.25526503, 10184.32388887,\n",
       "       10204.98186965, 10225.21862929, 10245.02413515, 10264.38891041,\n",
       "       10283.3040438 , 10301.76119856, 10319.75262063, 10337.27114603,\n",
       "       10354.31020751, 10370.8638403 , 10386.92668715, 10402.49400238,\n",
       "       10417.56165525, 10432.12613232, 10446.18453907, 10459.73460062,\n",
       "       10472.77466151, 10485.3036847 , 10497.32124968, 10508.82754967,\n",
       "       10519.82338798, 10530.31017353, 10540.28991547, 10549.765217  ,\n",
       "       10558.73926832, 10567.21583875, 10575.19926809, 10582.69445712,\n",
       "       10589.70685736, 10596.24246001, 10602.30778426, 10607.90986473,\n",
       "       10613.05623827, 10617.75493015, 10622.01443944, 10625.84372388,\n",
       "       10629.25218407, 10632.24964715, 10634.8463498 , 10637.05292087,\n",
       "       10638.88036339, 10640.34003617, 10641.44363494, 10642.20317307,\n",
       "       10642.63096198, 10642.7395911 , 10642.54190763, 10642.05099591,\n",
       "       10641.28015662, 10640.24288574, 10638.95285331, 10637.42388206,\n",
       "       10635.6699259 , 10633.70504832, 10631.54340078, 10629.19920102,\n",
       "       10626.68671137, 10624.02021717, 10621.21400519, 10618.28234214,\n",
       "       10615.23945339, 10612.09950174, 10608.87656644, 10605.58462241,\n",
       "       10602.23751966, 10598.84896305, 10595.43249226, 10592.0014621 ,\n",
       "       10588.56902321, 10585.14810302, 10581.75138718, 10578.39130135,\n",
       "       10575.07999346, 10571.82931635, 10568.65081091, 10565.55568975,\n",
       "       10562.55482126, 10559.65871431, 10556.87750341, 10554.22093441,\n",
       "       10551.69835082, 10549.3186807 , 10547.09042406, 10545.02164097,\n",
       "       10543.11994023, 10541.39246864, 10539.84590099, 10538.48643062,\n",
       "       10537.31976064, 10536.35109585, 10535.58513532, 10535.02606562,\n",
       "       10534.67755474, 10534.54274674, 10534.62425705, 10534.92416847,\n",
       "       10535.44402787, 10536.18484368, 10537.14708393, 10538.33067516,\n",
       "       10539.73500191, 10541.35890704, 10543.2006927 , 10545.258122  ,\n",
       "       10547.52842144, 10550.00828402, 10552.6938731 , 10555.5808269 ,\n",
       "       10558.66426378])"
      ]
     },
     "execution_count": 147,
     "metadata": {},
     "output_type": "execute_result"
    }
   ],
   "source": [
    "#Traformando em Watts*H/M²\n",
    "HoW=HoJ/3600\n",
    "HoW"
   ]
  },
  {
   "cell_type": "code",
   "execution_count": 148,
   "metadata": {},
   "outputs": [
    {
     "data": {
      "text/plain": [
       "[<matplotlib.lines.Line2D at 0x19e9e82f1c0>]"
      ]
     },
     "execution_count": 148,
     "metadata": {},
     "output_type": "execute_result"
    },
    {
     "data": {
      "image/png": "[encoded data removed]",
      "text/plain": [
       "<Figure size 432x288 with 1 Axes>"
      ]
     },
     "metadata": {
      "needs_background": "light"
     },
     "output_type": "display_data"
    }
   ],
   "source": [
    "plt.plot(HoW)"
   ]
  },
  {
   "cell_type": "code",
   "execution_count": 55,
   "metadata": {},
   "outputs": [
    {
     "data": {
      "text/html": [
       "<div>\n",
       "<style scoped>\n",
       "    .dataframe tbody tr th:only-of-type {\n",
       "        vertical-align: middle;\n",
       "    }\n",
       "\n",
       "    .dataframe tbody tr th {\n",
       "        vertical-align: top;\n",
       "    }\n",
       "\n",
       "    .dataframe thead th {\n",
       "        text-align: right;\n",
       "    }\n",
       "</style>\n",
       "<table border=\"1\" class=\"dataframe\">\n",
       "  <thead>\n",
       "    <tr style=\"text-align: right;\">\n",
       "      <th></th>\n",
       "      <th>SolarRad</th>\n",
       "      <th>Rain</th>\n",
       "      <th>TempOut</th>\n",
       "      <th>FilledData</th>\n",
       "    </tr>\n",
       "    <tr>\n",
       "      <th>Unnamed: 0</th>\n",
       "      <th></th>\n",
       "      <th></th>\n",
       "      <th></th>\n",
       "      <th></th>\n",
       "    </tr>\n",
       "  </thead>\n",
       "  <tbody>\n",
       "    <tr>\n",
       "      <th>2014-01-01 00:00:00</th>\n",
       "      <td>0.0</td>\n",
       "      <td>0.0</td>\n",
       "      <td>26300.0</td>\n",
       "      <td>Lavat</td>\n",
       "    </tr>\n",
       "    <tr>\n",
       "      <th>2014-01-01 00:10:00</th>\n",
       "      <td>0.0</td>\n",
       "      <td>0.0</td>\n",
       "      <td>26200.0</td>\n",
       "      <td>Lavat</td>\n",
       "    </tr>\n",
       "    <tr>\n",
       "      <th>2014-01-01 00:20:00</th>\n",
       "      <td>0.0</td>\n",
       "      <td>0.0</td>\n",
       "      <td>26200.0</td>\n",
       "      <td>Lavat</td>\n",
       "    </tr>\n",
       "    <tr>\n",
       "      <th>2014-01-01 00:30:00</th>\n",
       "      <td>0.0</td>\n",
       "      <td>0.0</td>\n",
       "      <td>26100.0</td>\n",
       "      <td>Lavat</td>\n",
       "    </tr>\n",
       "    <tr>\n",
       "      <th>2014-01-01 00:40:00</th>\n",
       "      <td>0.0</td>\n",
       "      <td>0.0</td>\n",
       "      <td>26200.0</td>\n",
       "      <td>Lavat</td>\n",
       "    </tr>\n",
       "    <tr>\n",
       "      <th>...</th>\n",
       "      <td>...</td>\n",
       "      <td>...</td>\n",
       "      <td>...</td>\n",
       "      <td>...</td>\n",
       "    </tr>\n",
       "    <tr>\n",
       "      <th>2019-12-31 23:10:00</th>\n",
       "      <td>0.0</td>\n",
       "      <td>0.0</td>\n",
       "      <td>27100.0</td>\n",
       "      <td>Lavat</td>\n",
       "    </tr>\n",
       "    <tr>\n",
       "      <th>2019-12-31 23:20:00</th>\n",
       "      <td>0.0</td>\n",
       "      <td>0.0</td>\n",
       "      <td>27000.0</td>\n",
       "      <td>Lavat</td>\n",
       "    </tr>\n",
       "    <tr>\n",
       "      <th>2019-12-31 23:30:00</th>\n",
       "      <td>0.0</td>\n",
       "      <td>0.0</td>\n",
       "      <td>27100.0</td>\n",
       "      <td>Lavat</td>\n",
       "    </tr>\n",
       "    <tr>\n",
       "      <th>2019-12-31 23:40:00</th>\n",
       "      <td>NaN</td>\n",
       "      <td>NaN</td>\n",
       "      <td>NaN</td>\n",
       "      <td>Faltante</td>\n",
       "    </tr>\n",
       "    <tr>\n",
       "      <th>2019-12-31 23:50:00</th>\n",
       "      <td>0.0</td>\n",
       "      <td>0.0</td>\n",
       "      <td>27100.0</td>\n",
       "      <td>Lavat</td>\n",
       "    </tr>\n",
       "  </tbody>\n",
       "</table>\n",
       "<p>315504 rows × 4 columns</p>\n",
       "</div>"
      ],
      "text/plain": [
       "                     SolarRad  Rain  TempOut FilledData\n",
       "Unnamed: 0                                             \n",
       "2014-01-01 00:00:00       0.0   0.0  26300.0      Lavat\n",
       "2014-01-01 00:10:00       0.0   0.0  26200.0      Lavat\n",
       "2014-01-01 00:20:00       0.0   0.0  26200.0      Lavat\n",
       "2014-01-01 00:30:00       0.0   0.0  26100.0      Lavat\n",
       "2014-01-01 00:40:00       0.0   0.0  26200.0      Lavat\n",
       "...                       ...   ...      ...        ...\n",
       "2019-12-31 23:10:00       0.0   0.0  27100.0      Lavat\n",
       "2019-12-31 23:20:00       0.0   0.0  27000.0      Lavat\n",
       "2019-12-31 23:30:00       0.0   0.0  27100.0      Lavat\n",
       "2019-12-31 23:40:00       NaN   NaN      NaN   Faltante\n",
       "2019-12-31 23:50:00       0.0   0.0  27100.0      Lavat\n",
       "\n",
       "[315504 rows x 4 columns]"
      ]
     },
     "execution_count": 55,
     "metadata": {},
     "output_type": "execute_result"
    }
   ],
   "source": [
    "df"
   ]
  },
  {
   "cell_type": "code",
   "execution_count": 56,
   "metadata": {},
   "outputs": [],
   "source": [
    "jan2014=[];jan2015=[];jan2016=[];jan2017=[];jan2018=[];jan2019=[];\n",
    "fev2014=[];fev2015=[];fev2016=[];fev2017=[];fev2018=[];fev2019=[];\n",
    "mar2014=[];mar2015=[];mar2016=[];mar2017=[];mar2018=[];mar2019=[];\n",
    "abr2014=[];abr2015=[];abr2016=[];abr2017=[];abr2018=[];abr2019=[];\n",
    "mai2014=[];mai2015=[];mai2016=[];mai2017=[];mai2018=[];mai2019=[];\n",
    "jun2014=[];jun2015=[];jun2016=[];jun2017=[];jun2018=[];jun2019=[];\n",
    "jul2014=[];jul2015=[];jul2016=[];jul2017=[];jul2018=[];jul2019=[];\n",
    "ago2014=[];ago2015=[];ago2016=[];ago2017=[];ago2018=[];ago2019=[];\n",
    "set2014=[];set2015=[];set2016=[];set2017=[];set2018=[];set2019=[];\n",
    "out2014=[];out2015=[];out2016=[];out2017=[];out2018=[];out2019=[];\n",
    "nov2014=[];nov2015=[];nov2016=[];nov2017=[];nov2018=[];nov2019=[];\n",
    "dez2014=[];dez2015=[];dez2016=[];dez2017=[];dez2018=[];dez2019=[];"
   ]
  },
  {
   "cell_type": "code",
   "execution_count": 57,
   "metadata": {},
   "outputs": [],
   "source": [
    "for i in range(1,32):\n",
    "    jan2014.append(df.SolarRad.loc['2014-01-{:02}'.format(i)].sum()*(1/6))\n",
    "    jan2015.append(df.SolarRad.loc['2015-01-{:02}'.format(i)].sum()*(1/6))\n",
    "    jan2016.append(df.SolarRad.loc['2016-01-{:02}'.format(i)].sum()*(1/6))\n",
    "    jan2017.append(df.SolarRad.loc['2017-01-{:02}'.format(i)].sum()*(1/6))\n",
    "    jan2018.append(df.SolarRad.loc['2018-01-{:02}'.format(i)].sum()*(1/6))\n",
    "    jan2019.append(df.SolarRad.loc['2019-01-{:02}'.format(i)].sum()*(1/6))\n",
    "    \n",
    "for i in range(1,29):\n",
    "    fev2014.append(df.SolarRad.loc['2014-02-{:02}'.format(i)].sum()*(1/6))\n",
    "    fev2015.append(df.SolarRad.loc['2015-02-{:02}'.format(i)].sum()*(1/6))  \n",
    "    fev2017.append(df.SolarRad.loc['2017-02-{:02}'.format(i)].sum()*(1/6))\n",
    "    fev2018.append(df.SolarRad.loc['2018-02-{:02}'.format(i)].sum()*(1/6))\n",
    "    fev2019.append(df.SolarRad.loc['2019-02-{:02}'.format(i)].sum()*(1/6))\n",
    "    \n",
    "for i in range(1,30):\n",
    "    fev2016.append(df.SolarRad.loc['2016-02-{:02}'.format(i)].sum()*(1/6))\n",
    "\n",
    "for i in range(1,32):\n",
    "    mar2014.append(df.SolarRad.loc['2014-03-{:02}'.format(i)].sum()*(1/6))\n",
    "    mar2015.append(df.SolarRad.loc['2015-03-{:02}'.format(i)].sum()*(1/6))\n",
    "    mar2016.append(df.SolarRad.loc['2016-03-{:02}'.format(i)].sum()*(1/6))\n",
    "    mar2017.append(df.SolarRad.loc['2017-03-{:02}'.format(i)].sum()*(1/6))\n",
    "    mar2018.append(df.SolarRad.loc['2018-03-{:02}'.format(i)].sum()*(1/6))\n",
    "    mar2019.append(df.SolarRad.loc['2019-03-{:02}'.format(i)].sum()*(1/6))\n",
    "\n",
    "for i in range(1,31):\n",
    "    abr2014.append(df.SolarRad.loc['2014-04-{:02}'.format(i)].sum()*(1/6))\n",
    "    abr2015.append(df.SolarRad.loc['2015-04-{:02}'.format(i)].sum()*(1/6))\n",
    "    abr2016.append(df.SolarRad.loc['2016-04-{:02}'.format(i)].sum()*(1/6))\n",
    "    abr2017.append(df.SolarRad.loc['2017-04-{:02}'.format(i)].sum()*(1/6))\n",
    "    abr2018.append(df.SolarRad.loc['2018-04-{:02}'.format(i)].sum()*(1/6))\n",
    "    abr2019.append(df.SolarRad.loc['2019-04-{:02}'.format(i)].sum()*(1/6))\n",
    "\n",
    "for i in range(1,32):\n",
    "    mai2014.append(df.SolarRad.loc['2014-05-{:02}'.format(i)].sum()*(1/6))\n",
    "    mai2015.append(df.SolarRad.loc['2015-05-{:02}'.format(i)].sum()*(1/6))\n",
    "    mai2016.append(df.SolarRad.loc['2016-05-{:02}'.format(i)].sum()*(1/6))\n",
    "    mai2017.append(df.SolarRad.loc['2017-05-{:02}'.format(i)].sum()*(1/6))\n",
    "    mai2018.append(df.SolarRad.loc['2018-05-{:02}'.format(i)].sum()*(1/6))\n",
    "    mai2019.append(df.SolarRad.loc['2019-05-{:02}'.format(i)].sum()*(1/6))\n",
    "\n",
    "for i in range(1,31):\n",
    "    jun2014.append(df.SolarRad.loc['2014-06-{:02}'.format(i)].sum()*(1/6))\n",
    "    jun2015.append(df.SolarRad.loc['2015-06-{:02}'.format(i)].sum()*(1/6))\n",
    "    jun2016.append(df.SolarRad.loc['2016-06-{:02}'.format(i)].sum()*(1/6))\n",
    "    jun2017.append(df.SolarRad.loc['2017-06-{:02}'.format(i)].sum()*(1/6))\n",
    "    jun2018.append(df.SolarRad.loc['2018-06-{:02}'.format(i)].sum()*(1/6))\n",
    "    jun2019.append(df.SolarRad.loc['2019-06-{:02}'.format(i)].sum()*(1/6))\n",
    "\n",
    "for i in range(1,32):\n",
    "    jul2014.append(df.SolarRad.loc['2014-07-{:02}'.format(i)].sum()*(1/6))\n",
    "    jul2015.append(df.SolarRad.loc['2015-07-{:02}'.format(i)].sum()*(1/6))\n",
    "    jul2016.append(df.SolarRad.loc['2016-07-{:02}'.format(i)].sum()*(1/6))\n",
    "    jul2017.append(df.SolarRad.loc['2017-07-{:02}'.format(i)].sum()*(1/6))\n",
    "    jul2018.append(df.SolarRad.loc['2018-07-{:02}'.format(i)].sum()*(1/6))\n",
    "    jul2019.append(df.SolarRad.loc['2019-07-{:02}'.format(i)].sum()*(1/6))\n",
    "\n",
    "for i in range(1,32):\n",
    "    ago2014.append(df.SolarRad.loc['2014-08-{:02}'.format(i)].sum()*(1/6))\n",
    "    ago2015.append(df.SolarRad.loc['2015-08-{:02}'.format(i)].sum()*(1/6))\n",
    "    ago2016.append(df.SolarRad.loc['2016-08-{:02}'.format(i)].sum()*(1/6))\n",
    "    ago2017.append(df.SolarRad.loc['2017-08-{:02}'.format(i)].sum()*(1/6))\n",
    "    ago2018.append(df.SolarRad.loc['2018-08-{:02}'.format(i)].sum()*(1/6))\n",
    "    ago2019.append(df.SolarRad.loc['2019-08-{:02}'.format(i)].sum()*(1/6))\n",
    "\n",
    "for i in range(1,31):\n",
    "    set2014.append(df.SolarRad.loc['2014-09-{:02}'.format(i)].sum()*(1/6))\n",
    "    set2015.append(df.SolarRad.loc['2015-09-{:02}'.format(i)].sum()*(1/6))\n",
    "    set2016.append(df.SolarRad.loc['2016-09-{:02}'.format(i)].sum()*(1/6))\n",
    "    set2017.append(df.SolarRad.loc['2017-09-{:02}'.format(i)].sum()*(1/6))\n",
    "    set2018.append(df.SolarRad.loc['2018-09-{:02}'.format(i)].sum()*(1/6))\n",
    "    set2019.append(df.SolarRad.loc['2019-09-{:02}'.format(i)].sum()*(1/6))\n",
    "\n",
    "for i in range(1,32):\n",
    "    out2014.append(df.SolarRad.loc['2014-10-{:02}'.format(i)].sum()*(1/6))\n",
    "    out2015.append(df.SolarRad.loc['2015-10-{:02}'.format(i)].sum()*(1/6))\n",
    "    out2016.append(df.SolarRad.loc['2016-10-{:02}'.format(i)].sum()*(1/6))\n",
    "    out2017.append(df.SolarRad.loc['2017-10-{:02}'.format(i)].sum()*(1/6))\n",
    "    out2018.append(df.SolarRad.loc['2018-10-{:02}'.format(i)].sum()*(1/6))\n",
    "    out2019.append(df.SolarRad.loc['2019-10-{:02}'.format(i)].sum()*(1/6))\n",
    "\n",
    "for i in range(1,31):\n",
    "    nov2014.append(df.SolarRad.loc['2014-11-{:02}'.format(i)].sum()*(1/6))\n",
    "    nov2015.append(df.SolarRad.loc['2015-11-{:02}'.format(i)].sum()*(1/6))\n",
    "    nov2016.append(df.SolarRad.loc['2016-11-{:02}'.format(i)].sum()*(1/6))\n",
    "    nov2017.append(df.SolarRad.loc['2017-11-{:02}'.format(i)].sum()*(1/6))\n",
    "    nov2018.append(df.SolarRad.loc['2018-11-{:02}'.format(i)].sum()*(1/6))\n",
    "    nov2019.append(df.SolarRad.loc['2019-11-{:02}'.format(i)].sum()*(1/6))\n",
    "\n",
    "for i in range(1,32):\n",
    "    dez2014.append(df.SolarRad.loc['2014-12-{:02}'.format(i)].sum()*(1/6))\n",
    "    dez2015.append(df.SolarRad.loc['2015-12-{:02}'.format(i)].sum()*(1/6))\n",
    "    dez2016.append(df.SolarRad.loc['2016-12-{:02}'.format(i)].sum()*(1/6))\n",
    "    dez2017.append(df.SolarRad.loc['2017-12-{:02}'.format(i)].sum()*(1/6))\n",
    "    dez2018.append(df.SolarRad.loc['2018-12-{:02}'.format(i)].sum()*(1/6))\n",
    "    dez2019.append(df.SolarRad.loc['2019-12-{:02}'.format(i)].sum()*(1/6))"
   ]
  },
  {
   "cell_type": "code",
   "execution_count": 58,
   "metadata": {},
   "outputs": [
    {
     "data": {
      "text/plain": [
       "6216.037634408603"
      ]
     },
     "execution_count": 58,
     "metadata": {},
     "output_type": "execute_result"
    }
   ],
   "source": [
    "np.mean(jan2014)"
   ]
  },
  {
   "cell_type": "code",
   "execution_count": 59,
   "metadata": {},
   "outputs": [],
   "source": [
    "tabela1=pd.DataFrame([])\n",
    "\n",
    "tabela1['jan']=pd.Series([np.mean(jan2014),np.mean(jan2015),np.mean(jan2016),np.mean(jan2017),np.mean(jan2018),np.mean(jan2019)])\n",
    "tabela1['fev']=pd.Series([np.mean(fev2014),np.mean(fev2015),np.mean(fev2016),np.mean(fev2017),np.mean(fev2018),np.mean(fev2019)])\n",
    "tabela1['mar']=pd.Series([np.mean(mar2014),np.mean(mar2015),np.mean(mar2016),np.mean(mar2017),np.mean(mar2018),np.mean(mar2019)])\n",
    "tabela1['abr']=pd.Series([np.mean(abr2014),np.mean(abr2015),np.mean(abr2016),np.mean(abr2017),np.mean(abr2018),np.mean(abr2019)])\n",
    "tabela1['mai']=pd.Series([np.mean(mai2014),np.mean(mai2015),np.mean(mai2016),np.mean(mai2017),np.mean(mai2018),np.mean(mai2019)])\n",
    "tabela1['jun']=pd.Series([np.mean(jun2014),np.mean(jun2015),np.mean(jun2016),np.mean(jun2017),np.mean(jun2018),np.mean(jun2019)])\n",
    "tabela1['jul']=pd.Series([np.mean(jul2014),np.mean(jul2015),np.mean(jul2016),np.mean(jul2017),np.mean(jul2018),np.mean(jul2019)])\n",
    "tabela1['ago']=pd.Series([np.mean(ago2014),np.mean(ago2015),np.mean(ago2016),np.mean(ago2017),np.mean(ago2018),np.mean(ago2019)])\n",
    "tabela1['set']=pd.Series([np.mean(set2014),np.mean(set2015),np.mean(set2016),np.mean(set2017),np.mean(set2018),np.mean(set2019)])\n",
    "tabela1['out']=pd.Series([np.mean(out2014),np.mean(out2015),np.mean(out2016),np.mean(out2017),np.mean(out2018),np.mean(out2019)])\n",
    "tabela1['nov']=pd.Series([np.mean(nov2014),np.mean(nov2015),np.mean(nov2016),np.mean(nov2017),np.mean(nov2018),np.mean(nov2019)])\n",
    "tabela1['dez']=pd.Series([np.mean(dez2014),np.mean(dez2015),np.mean(dez2016),np.mean(dez2017),np.mean(dez2018),np.mean(dez2019)])\n",
    "\n",
    "tabela1.index = [2014,2015,2016,2017,2018,2019]"
   ]
  },
  {
   "cell_type": "code",
   "execution_count": 60,
   "metadata": {},
   "outputs": [
    {
     "data": {
      "text/html": [
       "<div>\n",
       "<style scoped>\n",
       "    .dataframe tbody tr th:only-of-type {\n",
       "        vertical-align: middle;\n",
       "    }\n",
       "\n",
       "    .dataframe tbody tr th {\n",
       "        vertical-align: top;\n",
       "    }\n",
       "\n",
       "    .dataframe thead th {\n",
       "        text-align: right;\n",
       "    }\n",
       "</style>\n",
       "<table border=\"1\" class=\"dataframe\">\n",
       "  <thead>\n",
       "    <tr style=\"text-align: right;\">\n",
       "      <th></th>\n",
       "      <th>jan</th>\n",
       "      <th>fev</th>\n",
       "      <th>mar</th>\n",
       "      <th>abr</th>\n",
       "      <th>mai</th>\n",
       "      <th>jun</th>\n",
       "      <th>jul</th>\n",
       "      <th>ago</th>\n",
       "      <th>set</th>\n",
       "      <th>out</th>\n",
       "      <th>nov</th>\n",
       "      <th>dez</th>\n",
       "    </tr>\n",
       "  </thead>\n",
       "  <tbody>\n",
       "    <tr>\n",
       "      <th>2014</th>\n",
       "      <td>6216.037634</td>\n",
       "      <td>6544.017857</td>\n",
       "      <td>6679.188172</td>\n",
       "      <td>5918.627778</td>\n",
       "      <td>4895.645161</td>\n",
       "      <td>4652.661111</td>\n",
       "      <td>4845.870968</td>\n",
       "      <td>5987.709677</td>\n",
       "      <td>6267.622222</td>\n",
       "      <td>6832.075269</td>\n",
       "      <td>6893.555556</td>\n",
       "      <td>6582.075269</td>\n",
       "    </tr>\n",
       "    <tr>\n",
       "      <th>2015</th>\n",
       "      <td>6938.419355</td>\n",
       "      <td>6282.708333</td>\n",
       "      <td>5777.338710</td>\n",
       "      <td>6176.488889</td>\n",
       "      <td>5759.822581</td>\n",
       "      <td>4991.655556</td>\n",
       "      <td>4810.924731</td>\n",
       "      <td>5960.478495</td>\n",
       "      <td>6640.350000</td>\n",
       "      <td>6892.139785</td>\n",
       "      <td>7238.483333</td>\n",
       "      <td>6188.500000</td>\n",
       "    </tr>\n",
       "    <tr>\n",
       "      <th>2016</th>\n",
       "      <td>5018.349462</td>\n",
       "      <td>5918.511494</td>\n",
       "      <td>6284.758065</td>\n",
       "      <td>5198.633333</td>\n",
       "      <td>5421.983871</td>\n",
       "      <td>4991.527778</td>\n",
       "      <td>5626.768817</td>\n",
       "      <td>6050.580645</td>\n",
       "      <td>6893.838889</td>\n",
       "      <td>6993.903226</td>\n",
       "      <td>6961.627778</td>\n",
       "      <td>6494.553763</td>\n",
       "    </tr>\n",
       "    <tr>\n",
       "      <th>2017</th>\n",
       "      <td>6727.849462</td>\n",
       "      <td>6429.779762</td>\n",
       "      <td>6056.887097</td>\n",
       "      <td>5542.088889</td>\n",
       "      <td>5124.725806</td>\n",
       "      <td>4440.150000</td>\n",
       "      <td>3469.510753</td>\n",
       "      <td>1499.032258</td>\n",
       "      <td>0.000000</td>\n",
       "      <td>2212.935484</td>\n",
       "      <td>6941.755556</td>\n",
       "      <td>6585.946237</td>\n",
       "    </tr>\n",
       "    <tr>\n",
       "      <th>2018</th>\n",
       "      <td>6372.887097</td>\n",
       "      <td>5676.845238</td>\n",
       "      <td>6027.102151</td>\n",
       "      <td>4834.350000</td>\n",
       "      <td>5004.403226</td>\n",
       "      <td>4781.394444</td>\n",
       "      <td>4700.569892</td>\n",
       "      <td>6028.397849</td>\n",
       "      <td>6347.633333</td>\n",
       "      <td>6906.677419</td>\n",
       "      <td>6732.961111</td>\n",
       "      <td>6258.096774</td>\n",
       "    </tr>\n",
       "    <tr>\n",
       "      <th>2019</th>\n",
       "      <td>6202.833333</td>\n",
       "      <td>4752.613095</td>\n",
       "      <td>4916.639785</td>\n",
       "      <td>4819.727778</td>\n",
       "      <td>5040.553763</td>\n",
       "      <td>3708.783333</td>\n",
       "      <td>4480.193548</td>\n",
       "      <td>5557.973118</td>\n",
       "      <td>6006.611111</td>\n",
       "      <td>6737.672043</td>\n",
       "      <td>7153.172222</td>\n",
       "      <td>6629.102151</td>\n",
       "    </tr>\n",
       "  </tbody>\n",
       "</table>\n",
       "</div>"
      ],
      "text/plain": [
       "              jan          fev          mar          abr          mai  \\\n",
       "2014  6216.037634  6544.017857  6679.188172  5918.627778  4895.645161   \n",
       "2015  6938.419355  6282.708333  5777.338710  6176.488889  5759.822581   \n",
       "2016  5018.349462  5918.511494  6284.758065  5198.633333  5421.983871   \n",
       "2017  6727.849462  6429.779762  6056.887097  5542.088889  5124.725806   \n",
       "2018  6372.887097  5676.845238  6027.102151  4834.350000  5004.403226   \n",
       "2019  6202.833333  4752.613095  4916.639785  4819.727778  5040.553763   \n",
       "\n",
       "              jun          jul          ago          set          out  \\\n",
       "2014  4652.661111  4845.870968  5987.709677  6267.622222  6832.075269   \n",
       "2015  4991.655556  4810.924731  5960.478495  6640.350000  6892.139785   \n",
       "2016  4991.527778  5626.768817  6050.580645  6893.838889  6993.903226   \n",
       "2017  4440.150000  3469.510753  1499.032258     0.000000  2212.935484   \n",
       "2018  4781.394444  4700.569892  6028.397849  6347.633333  6906.677419   \n",
       "2019  3708.783333  4480.193548  5557.973118  6006.611111  6737.672043   \n",
       "\n",
       "              nov          dez  \n",
       "2014  6893.555556  6582.075269  \n",
       "2015  7238.483333  6188.500000  \n",
       "2016  6961.627778  6494.553763  \n",
       "2017  6941.755556  6585.946237  \n",
       "2018  6732.961111  6258.096774  \n",
       "2019  7153.172222  6629.102151  "
      ]
     },
     "execution_count": 60,
     "metadata": {},
     "output_type": "execute_result"
    }
   ],
   "source": [
    "tabela1"
   ]
  },
  {
   "cell_type": "code",
   "execution_count": 61,
   "metadata": {},
   "outputs": [],
   "source": [
    "tabela2 = pd.DataFrame([])\n",
    "\n",
    "tabela2['jan']=pd.Series(tabela1.jan.mean())\n",
    "tabela2['fev']=pd.Series(tabela1.fev.mean())\n",
    "tabela2['mar']=pd.Series(tabela1.mar.mean())\n",
    "tabela2['abr']=pd.Series(tabela1.abr.mean())\n",
    "tabela2['mai']=pd.Series(tabela1.mai.mean())\n",
    "tabela2['jun']=pd.Series(tabela1.jun.mean())\n",
    "tabela2['jul']=pd.Series(tabela1.jul.mean())\n",
    "tabela2['ago']=pd.Series(tabela1.ago.mean())\n",
    "tabela2['set']=pd.Series(tabela1.set.mean())\n",
    "tabela2['out']=pd.Series(tabela1.out.mean())\n",
    "tabela2['nov']=pd.Series(tabela1.nov.mean())\n",
    "tabela2['dez']=pd.Series(tabela1.dez.mean())\n",
    "\n",
    "tabela2.index = [\"H\"]"
   ]
  },
  {
   "cell_type": "code",
   "execution_count": 62,
   "metadata": {},
   "outputs": [
    {
     "data": {
      "text/html": [
       "<div>\n",
       "<style scoped>\n",
       "    .dataframe tbody tr th:only-of-type {\n",
       "        vertical-align: middle;\n",
       "    }\n",
       "\n",
       "    .dataframe tbody tr th {\n",
       "        vertical-align: top;\n",
       "    }\n",
       "\n",
       "    .dataframe thead th {\n",
       "        text-align: right;\n",
       "    }\n",
       "</style>\n",
       "<table border=\"1\" class=\"dataframe\">\n",
       "  <thead>\n",
       "    <tr style=\"text-align: right;\">\n",
       "      <th></th>\n",
       "      <th>jan</th>\n",
       "      <th>fev</th>\n",
       "      <th>mar</th>\n",
       "      <th>abr</th>\n",
       "      <th>mai</th>\n",
       "      <th>jun</th>\n",
       "      <th>jul</th>\n",
       "      <th>ago</th>\n",
       "      <th>set</th>\n",
       "      <th>out</th>\n",
       "      <th>nov</th>\n",
       "      <th>dez</th>\n",
       "    </tr>\n",
       "  </thead>\n",
       "  <tbody>\n",
       "    <tr>\n",
       "      <th>H</th>\n",
       "      <td>6246.062724</td>\n",
       "      <td>5934.079297</td>\n",
       "      <td>5956.985663</td>\n",
       "      <td>5414.986111</td>\n",
       "      <td>5207.855735</td>\n",
       "      <td>4594.362037</td>\n",
       "      <td>4655.639785</td>\n",
       "      <td>5180.695341</td>\n",
       "      <td>5359.342593</td>\n",
       "      <td>6095.900538</td>\n",
       "      <td>6986.925926</td>\n",
       "      <td>6456.379032</td>\n",
       "    </tr>\n",
       "  </tbody>\n",
       "</table>\n",
       "</div>"
      ],
      "text/plain": [
       "           jan          fev          mar          abr          mai  \\\n",
       "H  6246.062724  5934.079297  5956.985663  5414.986111  5207.855735   \n",
       "\n",
       "           jun          jul          ago          set          out  \\\n",
       "H  4594.362037  4655.639785  5180.695341  5359.342593  6095.900538   \n",
       "\n",
       "           nov          dez  \n",
       "H  6986.925926  6456.379032  "
      ]
     },
     "execution_count": 62,
     "metadata": {},
     "output_type": "execute_result"
    }
   ],
   "source": [
    "tabela2"
   ]
  },
  {
   "cell_type": "code",
   "execution_count": 63,
   "metadata": {},
   "outputs": [],
   "source": [
    "filt = (df.index.strftime(\"%H:%M:%S\")>='05:00:00') & (df.index.strftime(\"%H:%M:%S\")<='17:00:00')\n",
    "periodosDiurnos=df.loc[filt]"
   ]
  },
  {
   "cell_type": "code",
   "execution_count": 64,
   "metadata": {},
   "outputs": [],
   "source": [
    "tabelaDadosFaltantes=[]\n",
    "for i in range(1,13):\n",
    "    filt2=periodosDiurnos.index.strftime(\"%m\")=='{:02}'.format(i)\n",
    "    tabelaDadosFaltantes.append(periodosDiurnos.loc[filt2].FilledData.value_counts())"
   ]
  },
  {
   "cell_type": "code",
   "execution_count": 65,
   "metadata": {},
   "outputs": [
    {
     "data": {
      "text/html": [
       "<div>\n",
       "<style scoped>\n",
       "    .dataframe tbody tr th:only-of-type {\n",
       "        vertical-align: middle;\n",
       "    }\n",
       "\n",
       "    .dataframe tbody tr th {\n",
       "        vertical-align: top;\n",
       "    }\n",
       "\n",
       "    .dataframe thead th {\n",
       "        text-align: right;\n",
       "    }\n",
       "</style>\n",
       "<table border=\"1\" class=\"dataframe\">\n",
       "  <thead>\n",
       "    <tr style=\"text-align: right;\">\n",
       "      <th></th>\n",
       "      <th>Lavat</th>\n",
       "      <th>Faltante</th>\n",
       "      <th>Total</th>\n",
       "      <th>%</th>\n",
       "    </tr>\n",
       "  </thead>\n",
       "  <tbody>\n",
       "    <tr>\n",
       "      <th>1</th>\n",
       "      <td>13047</td>\n",
       "      <td>531</td>\n",
       "      <td>13578</td>\n",
       "      <td>3.910738</td>\n",
       "    </tr>\n",
       "    <tr>\n",
       "      <th>2</th>\n",
       "      <td>11218</td>\n",
       "      <td>1119</td>\n",
       "      <td>12337</td>\n",
       "      <td>9.070276</td>\n",
       "    </tr>\n",
       "    <tr>\n",
       "      <th>3</th>\n",
       "      <td>12324</td>\n",
       "      <td>1254</td>\n",
       "      <td>13578</td>\n",
       "      <td>9.235528</td>\n",
       "    </tr>\n",
       "    <tr>\n",
       "      <th>4</th>\n",
       "      <td>11766</td>\n",
       "      <td>1374</td>\n",
       "      <td>13140</td>\n",
       "      <td>10.456621</td>\n",
       "    </tr>\n",
       "    <tr>\n",
       "      <th>5</th>\n",
       "      <td>12467</td>\n",
       "      <td>1110</td>\n",
       "      <td>13577</td>\n",
       "      <td>8.175591</td>\n",
       "    </tr>\n",
       "    <tr>\n",
       "      <th>6</th>\n",
       "      <td>11048</td>\n",
       "      <td>2092</td>\n",
       "      <td>13140</td>\n",
       "      <td>15.920852</td>\n",
       "    </tr>\n",
       "    <tr>\n",
       "      <th>7</th>\n",
       "      <td>12038</td>\n",
       "      <td>1540</td>\n",
       "      <td>13578</td>\n",
       "      <td>11.341877</td>\n",
       "    </tr>\n",
       "    <tr>\n",
       "      <th>8</th>\n",
       "      <td>11312</td>\n",
       "      <td>2266</td>\n",
       "      <td>13578</td>\n",
       "      <td>16.688761</td>\n",
       "    </tr>\n",
       "    <tr>\n",
       "      <th>9</th>\n",
       "      <td>10725</td>\n",
       "      <td>2415</td>\n",
       "      <td>13140</td>\n",
       "      <td>18.378995</td>\n",
       "    </tr>\n",
       "    <tr>\n",
       "      <th>10</th>\n",
       "      <td>11934</td>\n",
       "      <td>1644</td>\n",
       "      <td>13578</td>\n",
       "      <td>12.107821</td>\n",
       "    </tr>\n",
       "    <tr>\n",
       "      <th>11</th>\n",
       "      <td>13102</td>\n",
       "      <td>38</td>\n",
       "      <td>13140</td>\n",
       "      <td>0.289193</td>\n",
       "    </tr>\n",
       "    <tr>\n",
       "      <th>12</th>\n",
       "      <td>13365</td>\n",
       "      <td>213</td>\n",
       "      <td>13578</td>\n",
       "      <td>1.568714</td>\n",
       "    </tr>\n",
       "  </tbody>\n",
       "</table>\n",
       "</div>"
      ],
      "text/plain": [
       "    Lavat  Faltante  Total          %\n",
       "1   13047       531  13578   3.910738\n",
       "2   11218      1119  12337   9.070276\n",
       "3   12324      1254  13578   9.235528\n",
       "4   11766      1374  13140  10.456621\n",
       "5   12467      1110  13577   8.175591\n",
       "6   11048      2092  13140  15.920852\n",
       "7   12038      1540  13578  11.341877\n",
       "8   11312      2266  13578  16.688761\n",
       "9   10725      2415  13140  18.378995\n",
       "10  11934      1644  13578  12.107821\n",
       "11  13102        38  13140   0.289193\n",
       "12  13365       213  13578   1.568714"
      ]
     },
     "execution_count": 65,
     "metadata": {},
     "output_type": "execute_result"
    }
   ],
   "source": [
    "tabelaDadosFaltantes=pd.DataFrame(tabelaDadosFaltantes)\n",
    "tabelaDadosFaltantes.index=[1,2,3,4,5,6,7,8,9,10,11,12]\n",
    "tabelaDadosFaltantes['Total']=tabelaDadosFaltantes.Lavat+tabelaDadosFaltantes.Faltante\n",
    "tabelaDadosFaltantes['%']=(tabelaDadosFaltantes.Faltante*100)/tabelaDadosFaltantes.Total\n",
    "tabelaDadosFaltantes"
   ]
  },
  {
   "cell_type": "code",
   "execution_count": 66,
   "metadata": {},
   "outputs": [],
   "source": [
    "a=tabela2.loc['H']\n",
    "a=pd.DataFrame(a)\n",
    "b=tabelaDadosFaltantes['%']\n",
    "b=pd.DataFrame(b)\n",
    "b.index=a.index"
   ]
  },
  {
   "cell_type": "code",
   "execution_count": 67,
   "metadata": {},
   "outputs": [
    {
     "data": {
      "image/png": "[encoded data removed]",
      "text/plain": [
       "<Figure size 432x288 with 2 Axes>"
      ]
     },
     "metadata": {
      "needs_background": "light"
     },
     "output_type": "display_data"
    },
    {
     "data": {
      "text/html": [
       "<div>\n",
       "<style scoped>\n",
       "    .dataframe tbody tr th:only-of-type {\n",
       "        vertical-align: middle;\n",
       "    }\n",
       "\n",
       "    .dataframe tbody tr th {\n",
       "        vertical-align: top;\n",
       "    }\n",
       "\n",
       "    .dataframe thead th {\n",
       "        text-align: right;\n",
       "    }\n",
       "</style>\n",
       "<table border=\"1\" class=\"dataframe\">\n",
       "  <thead>\n",
       "    <tr style=\"text-align: right;\">\n",
       "      <th></th>\n",
       "      <th>Lavat</th>\n",
       "      <th>Faltante</th>\n",
       "      <th>Total</th>\n",
       "      <th>%</th>\n",
       "    </tr>\n",
       "  </thead>\n",
       "  <tbody>\n",
       "    <tr>\n",
       "      <th>1</th>\n",
       "      <td>13047</td>\n",
       "      <td>531</td>\n",
       "      <td>13578</td>\n",
       "      <td>3.910738</td>\n",
       "    </tr>\n",
       "    <tr>\n",
       "      <th>2</th>\n",
       "      <td>11218</td>\n",
       "      <td>1119</td>\n",
       "      <td>12337</td>\n",
       "      <td>9.070276</td>\n",
       "    </tr>\n",
       "    <tr>\n",
       "      <th>3</th>\n",
       "      <td>12324</td>\n",
       "      <td>1254</td>\n",
       "      <td>13578</td>\n",
       "      <td>9.235528</td>\n",
       "    </tr>\n",
       "    <tr>\n",
       "      <th>4</th>\n",
       "      <td>11766</td>\n",
       "      <td>1374</td>\n",
       "      <td>13140</td>\n",
       "      <td>10.456621</td>\n",
       "    </tr>\n",
       "    <tr>\n",
       "      <th>5</th>\n",
       "      <td>12467</td>\n",
       "      <td>1110</td>\n",
       "      <td>13577</td>\n",
       "      <td>8.175591</td>\n",
       "    </tr>\n",
       "    <tr>\n",
       "      <th>6</th>\n",
       "      <td>11048</td>\n",
       "      <td>2092</td>\n",
       "      <td>13140</td>\n",
       "      <td>15.920852</td>\n",
       "    </tr>\n",
       "    <tr>\n",
       "      <th>7</th>\n",
       "      <td>12038</td>\n",
       "      <td>1540</td>\n",
       "      <td>13578</td>\n",
       "      <td>11.341877</td>\n",
       "    </tr>\n",
       "    <tr>\n",
       "      <th>8</th>\n",
       "      <td>11312</td>\n",
       "      <td>2266</td>\n",
       "      <td>13578</td>\n",
       "      <td>16.688761</td>\n",
       "    </tr>\n",
       "    <tr>\n",
       "      <th>9</th>\n",
       "      <td>10725</td>\n",
       "      <td>2415</td>\n",
       "      <td>13140</td>\n",
       "      <td>18.378995</td>\n",
       "    </tr>\n",
       "    <tr>\n",
       "      <th>10</th>\n",
       "      <td>11934</td>\n",
       "      <td>1644</td>\n",
       "      <td>13578</td>\n",
       "      <td>12.107821</td>\n",
       "    </tr>\n",
       "    <tr>\n",
       "      <th>11</th>\n",
       "      <td>13102</td>\n",
       "      <td>38</td>\n",
       "      <td>13140</td>\n",
       "      <td>0.289193</td>\n",
       "    </tr>\n",
       "    <tr>\n",
       "      <th>12</th>\n",
       "      <td>13365</td>\n",
       "      <td>213</td>\n",
       "      <td>13578</td>\n",
       "      <td>1.568714</td>\n",
       "    </tr>\n",
       "  </tbody>\n",
       "</table>\n",
       "</div>"
      ],
      "text/plain": [
       "    Lavat  Faltante  Total          %\n",
       "1   13047       531  13578   3.910738\n",
       "2   11218      1119  12337   9.070276\n",
       "3   12324      1254  13578   9.235528\n",
       "4   11766      1374  13140  10.456621\n",
       "5   12467      1110  13577   8.175591\n",
       "6   11048      2092  13140  15.920852\n",
       "7   12038      1540  13578  11.341877\n",
       "8   11312      2266  13578  16.688761\n",
       "9   10725      2415  13140  18.378995\n",
       "10  11934      1644  13578  12.107821\n",
       "11  13102        38  13140   0.289193\n",
       "12  13365       213  13578   1.568714"
      ]
     },
     "execution_count": 67,
     "metadata": {},
     "output_type": "execute_result"
    }
   ],
   "source": [
    "df = pd.DataFrame({\"Mês\": [\"jan\",\"fev\",\"mar\",\"abr\",\"mai\",\"jun\",\"jul\",\"ago\",\"set\",\"out\",\"nov\",\"dez\"],\n",
    "                   \"Radiação média mensal\": a['H'], \n",
    "                   \"% de Dados Faltantes (em momentos diurnos)\": b['%']})\n",
    "ax = df.plot(x=\"Mês\", marker='o', y=\"Radiação média mensal\", legend=False)\n",
    "ax2 = ax.twinx()\n",
    "df.plot(ylim=(0,100),kind='bar',ls='dashed', alpha = 0.5, lw=7,x=\"Mês\", y=\"% de Dados Faltantes (em momentos diurnos)\", ax=ax2, legend=False, color=\"r\")\n",
    "ax.figure.legend()\n",
    "plt.show()\n",
    "tabelaDadosFaltantes"
   ]
  },
  {
   "cell_type": "code",
   "execution_count": null,
   "metadata": {},
   "outputs": [],
   "source": []
  }
 ],
 "metadata": {
  "kernelspec": {
   "display_name": "Python 3",
   "language": "python",
   "name": "python3"
  },
  "language_info": {
   "codemirror_mode": {
    "name": "ipython",
    "version": 3
   },
   "file_extension": ".py",
   "mimetype": "text/x-python",
   "name": "python",
   "nbconvert_exporter": "python",
   "pygments_lexer": "ipython3",
   "version": "3.8.3"
  }
 },
 "nbformat": 4,
 "nbformat_minor": 4
}
