{
 "cells": [
  {
   "cell_type": "code",
   "execution_count": null,
   "metadata": {},
   "outputs": [],
   "source": [
    "import pandas as pd\n",
    "import numpy as np\n",
    "import seaborn as sns\n",
    "import matplotlib.pyplot as plt\n",
    "pd.set_option('display.max_rows',1000)"
   ]
  },
  {
   "cell_type": "code",
   "execution_count": null,
   "metadata": {},
   "outputs": [],
   "source": [
    "df=pd.DataFrame([])\n",
    "\n",
    "nome_meses=['jan','fev','mar','abr','mai','jun','jul','ago','set','out','nov','dez']\n",
    "\n",
    "for y in range (4,10):  # 4 de 201'4' e 10 significa que vai até o 9 de 201'9'\n",
    "    for m in nome_meses:\n",
    "        c=pd.read_excel(r'C:\\Users\\Alexandro\\Desktop\\Matérias\\Projeto\\201{}\\201{}{}.xlsx'.format(y,y,m))\n",
    "        df=df.append(c)\n",
    "df.set_index('Unnamed: 0',inplace=True)\n",
    "A=df.index ## Para utilizar o index em outro conjunto de dados que criarmos"
   ]
  },
  {
   "cell_type": "code",
   "execution_count": null,
   "metadata": {},
   "outputs": [],
   "source": [
    "T = np.pi/180           \n",
    "sind=lambda a:np.sin(T*a)           \n",
    "cosd=lambda a:np.cos(T*a)           \n",
    "tand=lambda a:np.tan(T*a)           \n",
    "acosd=lambda a:(1/T)*np.arccos(a)   \n",
    "asind=lambda a:(1/T)*np.arcsin(a)   \n",
    "atand=lambda a:(1/T)*np.arctan(a)"
   ]
  },
  {
   "cell_type": "code",
   "execution_count": null,
   "metadata": {},
   "outputs": [],
   "source": []
  }
 ],
 "metadata": {
  "kernelspec": {
   "display_name": "Python 3",
   "language": "python",
   "name": "python3"
  },
  "language_info": {
   "codemirror_mode": {
    "name": "ipython",
    "version": 3
   },
   "file_extension": ".py",
   "mimetype": "text/x-python",
   "name": "python",
   "nbconvert_exporter": "python",
   "pygments_lexer": "ipython3",
   "version": "3.8.3"
  }
 },
 "nbformat": 4,
 "nbformat_minor": 4
}
