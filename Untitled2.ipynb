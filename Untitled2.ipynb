{
 "cells": [
  {
   "cell_type": "code",
   "execution_count": 1,
   "metadata": {},
   "outputs": [],
   "source": [
    "import pandas as pd\n",
    "import numpy as np\n",
    "import seaborn as sns\n",
    "import matplotlib.pyplot as plt\n",
    "pd.set_option('display.max_rows',1000)"
   ]
  },
  {
   "cell_type": "code",
   "execution_count": 3,
   "metadata": {},
   "outputs": [],
   "source": [
    "df=pd.DataFrame([])\n",
    "\n",
    "nome_meses=['jan','fev','mar','abr','mai','jun','jul','ago','set','out','nov','dez']\n",
    "\n",
    "for y in range (4,10):  # 4 de 201'4' e 10 significa que vai até o 9 de 201'9'\n",
    "    for m in nome_meses:\n",
    "        c=pd.read_excel(r'C:\\Users\\Katia Suely\\Desktop\\Planilhas do programa\\201{}\\201{}{}.xlsx'.format(y,y,m))\n",
    "        df=df.append(c)\n",
    "df.set_index('Unnamed: 0',inplace=True)\n",
    "A=df.index ## Para utilizar o index em outro conjunto de dados que criarmos"
   ]
  },
  {
   "cell_type": "code",
   "execution_count": 4,
   "metadata": {},
   "outputs": [],
   "source": [
    "var=[]\n",
    "for i in range(1,13):\n",
    "    for x in range(0,24):\n",
    "        for y in range(0,60,10):\n",
    "            var.append((df.SolarRad.loc[df.index.strftime('%Y-%m  %H:%M')=='2015-{:02}  {:02}:{:02}'.format(i,x,y)]).mean())"
   ]
  },
  {
   "cell_type": "code",
   "execution_count": null,
   "metadata": {},
   "outputs": [],
   "source": []
  }
 ],
 "metadata": {
  "kernelspec": {
   "display_name": "Python 3",
   "language": "python",
   "name": "python3"
  },
  "language_info": {
   "codemirror_mode": {
    "name": "ipython",
    "version": 3
   },
   "file_extension": ".py",
   "mimetype": "text/x-python",
   "name": "python",
   "nbconvert_exporter": "python",
   "pygments_lexer": "ipython3",
   "version": "3.8.3"
  }
 },
 "nbformat": 4,
 "nbformat_minor": 4
}
