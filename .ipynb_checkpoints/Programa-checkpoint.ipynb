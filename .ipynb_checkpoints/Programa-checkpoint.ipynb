{
 "cells": [
  {
   "cell_type": "code",
   "execution_count": 1,
   "metadata": {},
   "outputs": [],
   "source": [
    "import pandas as pd\n",
    "import numpy as np \n",
    "import matplotlib.pyplot as plt\n",
    "import seaborn as sns\n",
    "pd.set_option('display.max_rows',144*12)"
   ]
  },
  {
   "cell_type": "code",
   "execution_count": null,
   "metadata": {},
   "outputs": [],
   "source": [
    "df2015=pd.DataFrame([{'Mean':np.nan},{'Min':np.nan},{'Max':np.nan}])\n",
    "nome_meses=['jan','fev','mar','abr','mai','jun','jul','ago','set','out','nov','dez']\n",
    "j=0\n",
    "for v in nome_meses:\n",
    "    df=pd.read_excel(r'C:\\Users\\Katia Suely\\Desktop\\Planilhas do programa\\2016\\2016{}.xlsx'.format(v))\n",
    "    df.set_index('Unnamed: 0', inplace=True)\n",
    "    DateRange=pd.date_range('2016-01-01', periods=144, freq='10min')\n",
    "    df1=pd.DataFrame(DateRange)\n",
    "    df1[0]=df1[0].dt.time\n",
    "    \n",
    "    for i in df1[0]:\n",
    "        df2015.loc[j]=[df.SolarRad.loc[df.index.strftime(\"%H:%M:%S\") == str(i)].mean(),\n",
    "                      df.SolarRad.loc[df.index.strftime(\"%H:%M:%S\") == str(i)].min(),\n",
    "                      df.SolarRad.loc[df.index.strftime(\"%H:%M:%S\") == str(i)].max()]\n",
    "        j=j+1\n",
    "        "
   ]
  },
  {
   "cell_type": "code",
   "execution_count": null,
   "metadata": {},
   "outputs": [],
   "source": [
    "df2016=pd.DataFrame([{'std':np.nan}])\n",
    "nome_meses=['jan','fev','mar','abr','mai','jun','jul','ago','set','out','nov','dez']\n",
    "j=0\n",
    "for v in nome_meses:\n",
    "    df=pd.read_excel(r'C:\\Users\\Katia Suely\\Desktop\\Planilhas do programa\\2016\\2016{}.xlsx'.format(v))\n",
    "    df.set_index('Unnamed: 0', inplace=True)\n",
    "    DateRange=pd.date_range('2016-01-01', periods=144, freq='10min')\n",
    "    df1=pd.DataFrame(DateRange)\n",
    "    df1[0]=df1[0].dt.time\n",
    "    \n",
    "    for i in df1[0]:\n",
    "        df2016.loc[j]=[df.SolarRad.loc[df.index.strftime(\"%H:%M:%S\") == str(i)].std()]\n",
    "        j=j+1"
   ]
  },
  {
   "cell_type": "code",
   "execution_count": null,
   "metadata": {},
   "outputs": [],
   "source": [
    "df2016"
   ]
  },
  {
   "cell_type": "code",
   "execution_count": null,
   "metadata": {},
   "outputs": [],
   "source": [
    "df2015['Desvio padrão']=df2016"
   ]
  },
  {
   "cell_type": "code",
   "execution_count": null,
   "metadata": {},
   "outputs": [],
   "source": [
    "df2015['Coeficiente de variação %']=(df2015['Desvio padrão']/df2015.Mean)*100"
   ]
  },
  {
   "cell_type": "code",
   "execution_count": null,
   "metadata": {},
   "outputs": [],
   "source": [
    "df2015.drop('Coeficiente de variação',axis=1,inplace=True)"
   ]
  },
  {
   "cell_type": "code",
   "execution_count": null,
   "metadata": {},
   "outputs": [],
   "source": [
    "df2015"
   ]
  },
  {
   "cell_type": "code",
   "execution_count": null,
   "metadata": {},
   "outputs": [],
   "source": [
    "df2015.to_excel(r'C:\\Users\\Katia Suely\\Desktop\\Planilhas do programa\\MEAN2016.xlsx')"
   ]
  },
  {
   "cell_type": "code",
   "execution_count": null,
   "metadata": {
    "scrolled": true
   },
   "outputs": [],
   "source": [
    "plt.style.use('seaborn-whitegrid')\n",
    "plt.grid(color='gray', linestyle='--', linewidth=1)\n",
    "plt.rcParams['axes.facecolor'] = 'lightsteelblue'\n",
    "plt.gcf().set_size_inches(200, 5)\n",
    "\n",
    "DateRange=pd.date_range('2016-01-01', periods=144, freq='10min')\n",
    "df1=pd.DataFrame(DateRange)\n",
    "df1[0]=df1[0].dt.time\n",
    "df2015['Um']=df1\n",
    "df2015.set_index('Um', inplace=True)\n",
    "\n",
    "chart=sns.boxplot(x=df2015.index.strftime('%m--%H:%M'),y=df2015['SolarRad'], data=df)\n",
    "chart.set_xticklabels(chart.get_xticklabels(), rotation=45)\n",
    "\n",
    "plt.plot(df2015.Mean, Color='orange')\n",
    "plt.plot(df2015.Max, Color='midnightblue')\n",
    "plt.plot(df2015.Min, Color='green')\n",
    "plt.fill_between(df2015.index,df2015.Max,df2015.Mean,Color='midnightblue',alpha=0.67)\n",
    "plt.fill_between(df2015.index,df2015.Mean,df2015.Min,Color='orange',alpha=0.67)\n",
    "plt.fill_between(df2015.index,df2015.Min,Color='green',alpha=0.67)"
   ]
  },
  {
   "cell_type": "code",
   "execution_count": null,
   "metadata": {},
   "outputs": [],
   "source": [
    "mar_2016=pd.read_excel(r'C:\\Users\\Katia Suely\\Desktop\\Planilhas do programa\\2016\\2016mar.xlsx')"
   ]
  },
  {
   "cell_type": "code",
   "execution_count": null,
   "metadata": {},
   "outputs": [],
   "source": []
  },
  {
   "cell_type": "code",
   "execution_count": null,
   "metadata": {},
   "outputs": [],
   "source": [
    "mar_2016.head(100)"
   ]
  },
  {
   "cell_type": "code",
   "execution_count": null,
   "metadata": {},
   "outputs": [],
   "source": [
    "df2015"
   ]
  },
  {
   "cell_type": "code",
   "execution_count": null,
   "metadata": {},
   "outputs": [],
   "source": []
  }
 ],
 "metadata": {
  "kernelspec": {
   "display_name": "Python 3",
   "language": "python",
   "name": "python3"
  },
  "language_info": {
   "codemirror_mode": {
    "name": "ipython",
    "version": 3
   },
   "file_extension": ".py",
   "mimetype": "text/x-python",
   "name": "python",
   "nbconvert_exporter": "python",
   "pygments_lexer": "ipython3",
   "version": "3.8.3"
  }
 },
 "nbformat": 4,
 "nbformat_minor": 4
}
